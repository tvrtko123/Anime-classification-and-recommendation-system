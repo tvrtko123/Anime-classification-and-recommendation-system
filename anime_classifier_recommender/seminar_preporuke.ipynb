{
  "nbformat": 4,
  "nbformat_minor": 0,
  "metadata": {
    "colab": {
      "provenance": []
    },
    "kernelspec": {
      "name": "python3",
      "display_name": "Python 3"
    },
    "language_info": {
      "name": "python"
    }
  },
  "cells": [
    {
      "cell_type": "code",
      "execution_count": null,
      "metadata": {
        "id": "OwT4yH6sWhfk"
      },
      "outputs": [],
      "source": [
        "!pip install rake-nltk"
      ]
    },
    {
      "cell_type": "code",
      "source": [
        "import numpy as np\n",
        "import pandas as pd\n",
        "from rake_nltk import Rake\n",
        "import sklearn\n",
        "import nltk"
      ],
      "metadata": {
        "id": "x_bIt3SSWl5m"
      },
      "execution_count": 2,
      "outputs": []
    },
    {
      "cell_type": "code",
      "source": [
        "nltk.download('stopwords')\n",
        "nltk.download('punkt')"
      ],
      "metadata": {
        "id": "s_HyQlEGZa64"
      },
      "execution_count": null,
      "outputs": []
    },
    {
      "cell_type": "code",
      "source": [
        "dfanime = pd.read_json('/content/drive/MyDrive/anime_data.json')"
      ],
      "metadata": {
        "id": "K2Jy9otiWnez"
      },
      "execution_count": 4,
      "outputs": []
    },
    {
      "cell_type": "code",
      "source": [
        "dfanime.head()"
      ],
      "metadata": {
        "id": "tNomQBLaXADM"
      },
      "execution_count": null,
      "outputs": []
    },
    {
      "cell_type": "code",
      "source": [
        "dfanime['genres'] = dfanime['genres'].apply(lambda x: ', '.join([f\"'{genre['name']}'\" for genre in x]) if isinstance(x, list) else '')"
      ],
      "metadata": {
        "id": "Wm7C17JnW8vb"
      },
      "execution_count": 6,
      "outputs": []
    },
    {
      "cell_type": "code",
      "source": [
        "dfanime.head()"
      ],
      "metadata": {
        "id": "TGprVdyTXEHK"
      },
      "execution_count": null,
      "outputs": []
    },
    {
      "cell_type": "code",
      "source": [
        "syp = dfanime['synopsis']\n",
        "genres = dfanime['genres']\n",
        "title = dfanime['title']\n",
        "for i, t in enumerate(title):\n",
        "    title[i] = t.lower()"
      ],
      "metadata": {
        "id": "RUGh_i_nXINz"
      },
      "execution_count": null,
      "outputs": []
    },
    {
      "cell_type": "code",
      "source": [
        "title.head()"
      ],
      "metadata": {
        "colab": {
          "base_uri": "https://localhost:8080/"
        },
        "id": "5ihJYSnLXNAk",
        "outputId": "9b558265-8211-4495-8b68-74909069ab75"
      },
      "execution_count": 17,
      "outputs": [
        {
          "output_type": "execute_result",
          "data": {
            "text/plain": [
              "0                       cowboy bebop\n",
              "1    cowboy bebop: tengoku no tobira\n",
              "2                             trigun\n",
              "3                 witch hunter robin\n",
              "4                     bouken ou beet\n",
              "Name: title, dtype: object"
            ]
          },
          "metadata": {},
          "execution_count": 17
        }
      ]
    },
    {
      "cell_type": "code",
      "source": [
        "syp = syp.fillna(' ')\n",
        "for i,each_anime_genre in enumerate(genres):\n",
        "    each_anime_genre = each_anime_genre.replace(\"'\",\"\")\n",
        "    each_anime_genre = each_anime_genre.replace(\",\",\"\")\n",
        "    genres.iloc[i] = each_anime_genre"
      ],
      "metadata": {
        "id": "lj20UTeZXQcU"
      },
      "execution_count": null,
      "outputs": []
    },
    {
      "cell_type": "code",
      "source": [
        "genres"
      ],
      "metadata": {
        "id": "Y94JdhO9XZzW"
      },
      "execution_count": null,
      "outputs": []
    },
    {
      "cell_type": "code",
      "source": [
        "rake = Rake()\n",
        "keywords = []\n",
        "for plot in syp:\n",
        "    rake.extract_keywords_from_text(plot)\n",
        "    keywords_i = rake.get_ranked_phrases()\n",
        "    keywords_i_string = \"\"\n",
        "    for keyword in keywords_i:\n",
        "        keywords_i_string = keywords_i_string + \" \" + keyword\n",
        "    keywords.append(keywords_i_string)\n",
        "dfanime['keywords'] = keywords\n",
        "dfanime['keywords'][0]"
      ],
      "metadata": {
        "id": "sTU9kvE0Xvj6"
      },
      "execution_count": null,
      "outputs": []
    },
    {
      "cell_type": "code",
      "source": [
        "dfanime['bag of words'] = dfanime['genres'] + dfanime['keywords']"
      ],
      "metadata": {
        "id": "ArM0OEXkYk9K"
      },
      "execution_count": 13,
      "outputs": []
    },
    {
      "cell_type": "code",
      "source": [
        "from sklearn.feature_extraction.text import CountVectorizer\n",
        "from sklearn.metrics.pairwise import cosine_similarity\n",
        "vectorizer = CountVectorizer()\n",
        "vectorized_bag_of_words = vectorizer.fit_transform(dfanime['bag of words'])\n",
        "vectorized_bag_of_words = vectorized_bag_of_words.toarray()"
      ],
      "metadata": {
        "id": "ugYTXPqGYpqe"
      },
      "execution_count": 14,
      "outputs": []
    },
    {
      "cell_type": "code",
      "source": [
        "def recommend(show_title, n_recom):\n",
        "    similarity_matrix = cosine_similarity(vectorized_bag_of_words, vectorized_bag_of_words[list(np.where(dfanime[\"title\"] == show_title)[0]), :])\n",
        "    similarity_dataframe = pd.DataFrame(similarity_matrix)\n",
        "    similarity_dataframe.index = title \n",
        "    similarity_dataframe =  similarity_dataframe.iloc[:,0]\n",
        "    similarity_dataframe = similarity_dataframe.sort_values(ascending = False)\n",
        "    similarity_dataframe = similarity_dataframe.drop_duplicates()\n",
        "    return list(similarity_dataframe.index)[1:n_recom + 1]"
      ],
      "metadata": {
        "id": "m_Ml0BXsYu0P"
      },
      "execution_count": 15,
      "outputs": []
    },
    {
      "cell_type": "code",
      "source": [
        "recommend(\"cowboy bebop\", 8)"
      ],
      "metadata": {
        "colab": {
          "base_uri": "https://localhost:8080/"
        },
        "id": "D2UDHR1JY3uj",
        "outputId": "12f17354-7e05-47e4-baf3-da3eb6295ac1"
      },
      "execution_count": 21,
      "outputs": [
        {
          "output_type": "execute_result",
          "data": {
            "text/plain": [
              "['cowboy bebop: tengoku no tobira',\n",
              " 'saraba uchuu senkan yamato: ai no senshi-tachi',\n",
              " 'planetes picture drama',\n",
              " 'space cobra pilot',\n",
              " 'cobra the animation: time drive',\n",
              " 'kidou shinseiki gundam x',\n",
              " 'uchuu senkan yamato',\n",
              " 'tsumiki no ie']"
            ]
          },
          "metadata": {},
          "execution_count": 21
        }
      ]
    }
  ]
}
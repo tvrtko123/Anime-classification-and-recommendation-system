{
  "nbformat": 4,
  "nbformat_minor": 0,
  "metadata": {
    "colab": {
      "provenance": [],
      "gpuType": "T4"
    },
    "kernelspec": {
      "name": "python3",
      "display_name": "Python 3"
    },
    "language_info": {
      "name": "python"
    }
  },
  "cells": [
    {
      "cell_type": "markdown",
      "source": [
        "#Klasifikacija animea po žanru bazirano na sinopsisu"
      ],
      "metadata": {
        "id": "Wm7k631MUWif"
      }
    },
    {
      "cell_type": "code",
      "execution_count": 1,
      "metadata": {
        "id": "g5XjuOP_mOuq",
        "colab": {
          "base_uri": "https://localhost:8080/"
        },
        "outputId": "9317866a-8695-49a4-c2b0-204087248aa1"
      },
      "outputs": [
        {
          "output_type": "stream",
          "name": "stdout",
          "text": [
            "Looking in indexes: https://pypi.org/simple, https://us-python.pkg.dev/colab-wheels/public/simple/\n",
            "Collecting pymongo\n",
            "  Downloading pymongo-4.3.3-cp310-cp310-manylinux_2_17_x86_64.manylinux2014_x86_64.whl (492 kB)\n",
            "\u001b[2K     \u001b[90m━━━━━━━━━━━━━━━━━━━━━━━━━━━━━━━━━━━━━━\u001b[0m \u001b[32m492.9/492.9 kB\u001b[0m \u001b[31m10.4 MB/s\u001b[0m eta \u001b[36m0:00:00\u001b[0m\n",
            "\u001b[?25hCollecting dnspython<3.0.0,>=1.16.0 (from pymongo)\n",
            "  Downloading dnspython-2.3.0-py3-none-any.whl (283 kB)\n",
            "\u001b[2K     \u001b[90m━━━━━━━━━━━━━━━━━━━━━━━━━━━━━━━━━━━━━━\u001b[0m \u001b[32m283.7/283.7 kB\u001b[0m \u001b[31m33.0 MB/s\u001b[0m eta \u001b[36m0:00:00\u001b[0m\n",
            "\u001b[?25hInstalling collected packages: dnspython, pymongo\n",
            "Successfully installed dnspython-2.3.0 pymongo-4.3.3\n"
          ]
        }
      ],
      "source": [
        "!pip install pymongo"
      ]
    },
    {
      "cell_type": "code",
      "source": [
        "import pandas as pd\n",
        "import numpy as np\n",
        "import matplotlib.pyplot as plt\n",
        "%matplotlib Inline\n",
        "import seaborn as sns\n",
        "import pymongo"
      ],
      "metadata": {
        "id": "ZtZTwrcHyth6"
      },
      "execution_count": 2,
      "outputs": []
    },
    {
      "cell_type": "markdown",
      "source": [
        "###Učitavanje podataka"
      ],
      "metadata": {
        "id": "Rvuu5RjYUnUd"
      }
    },
    {
      "cell_type": "code",
      "source": [
        "dfanime = pd.read_json('/content/drive/MyDrive/anime_data.json')"
      ],
      "metadata": {
        "id": "J8ptuWZOIXrO"
      },
      "execution_count": 3,
      "outputs": []
    },
    {
      "cell_type": "code",
      "source": [
        "dfanime['genres'] = dfanime['genres'].apply(lambda x: ', '.join([f\"'{genre['name']}'\" for genre in x]) if isinstance(x, list) else '')"
      ],
      "metadata": {
        "id": "FgV0HrY-3WbI"
      },
      "execution_count": 4,
      "outputs": []
    },
    {
      "cell_type": "code",
      "source": [
        "dfanime.info()"
      ],
      "metadata": {
        "colab": {
          "base_uri": "https://localhost:8080/"
        },
        "id": "-MxK0am7qSYi",
        "outputId": "1e5087fa-f665-465a-ef32-d1fb3f09a24c"
      },
      "execution_count": 5,
      "outputs": [
        {
          "output_type": "stream",
          "name": "stdout",
          "text": [
            "<class 'pandas.core.frame.DataFrame'>\n",
            "RangeIndex: 7268 entries, 0 to 7267\n",
            "Data columns (total 19 columns):\n",
            " #   Column                    Non-Null Count  Dtype  \n",
            "---  ------                    --------------  -----  \n",
            " 0   _id                       7268 non-null   object \n",
            " 1   id                        7268 non-null   int64  \n",
            " 2   title                     7268 non-null   object \n",
            " 3   main_picture              7261 non-null   object \n",
            " 4   start_date                7268 non-null   object \n",
            " 5   end_date                  7255 non-null   object \n",
            " 6   synopsis                  7268 non-null   object \n",
            " 7   mean                      6954 non-null   float64\n",
            " 8   rank                      6217 non-null   float64\n",
            " 9   popularity                7268 non-null   int64  \n",
            " 10  num_list_users            7268 non-null   int64  \n",
            " 11  num_scoring_users         7268 non-null   int64  \n",
            " 12  status                    7268 non-null   object \n",
            " 13  genres                    7268 non-null   object \n",
            " 14  num_episodes              7268 non-null   int64  \n",
            " 15  broadcast                 1215 non-null   object \n",
            " 16  average_episode_duration  7268 non-null   int64  \n",
            " 17  rating                    7173 non-null   object \n",
            " 18  studios                   7268 non-null   object \n",
            "dtypes: float64(2), int64(6), object(11)\n",
            "memory usage: 1.1+ MB\n"
          ]
        }
      ]
    },
    {
      "cell_type": "code",
      "source": [
        "dfanime.head()"
      ],
      "metadata": {
        "colab": {
          "base_uri": "https://localhost:8080/",
          "height": 600
        },
        "id": "m4ZnfpRl8007",
        "outputId": "6c326dde-b25b-41b3-8d5c-07913db0fed1"
      },
      "execution_count": 6,
      "outputs": [
        {
          "output_type": "execute_result",
          "data": {
            "text/plain": [
              "                                    _id  id                            title  \\\n",
              "0  {'$oid': '6475e0941f0050062bd10388'}   1                     Cowboy Bebop   \n",
              "1  {'$oid': '6475e0971f0050062bd1038a'}   5  Cowboy Bebop: Tengoku no Tobira   \n",
              "2  {'$oid': '6475e09a1f0050062bd1038c'}   6                           Trigun   \n",
              "3  {'$oid': '6475e09c1f0050062bd1038e'}   7               Witch Hunter Robin   \n",
              "4  {'$oid': '6475e09f1f0050062bd10390'}   8                   Bouken Ou Beet   \n",
              "\n",
              "                                        main_picture  start_date    end_date  \\\n",
              "0  {'medium': 'https://cdn.myanimelist.net/images...  1998-04-03  1999-04-24   \n",
              "1  {'medium': 'https://cdn.myanimelist.net/images...  2001-09-01  2001-09-01   \n",
              "2  {'medium': 'https://cdn.myanimelist.net/images...  1998-04-01  1998-09-30   \n",
              "3  {'medium': 'https://cdn.myanimelist.net/images...  2002-07-03  2002-12-25   \n",
              "4  {'medium': 'https://cdn.myanimelist.net/images...  2004-09-30  2005-09-29   \n",
              "\n",
              "                                            synopsis  mean    rank  \\\n",
              "0  Crime is timeless. By the year 2071, humanity ...  8.75    40.0   \n",
              "1  Another day, another bounty—such is the life o...  8.38   191.0   \n",
              "2  Vash the Stampede is the man with a $$60,000,0...  8.22   325.0   \n",
              "3  Robin Sena is a powerful craft user drafted in...  7.25  2798.0   \n",
              "4  It is the dark century and the people are suff...  6.94  4240.0   \n",
              "\n",
              "   popularity  num_list_users  num_scoring_users           status  \\\n",
              "0          43         1765279             910917  finished_airing   \n",
              "1         601          359873             205667  finished_airing   \n",
              "2         246          724596             355436  finished_airing   \n",
              "3        1792          111663              42756  finished_airing   \n",
              "4        5114           14957               6392  finished_airing   \n",
              "\n",
              "                                              genres  num_episodes  \\\n",
              "0  'Action', 'Adult Cast', 'Award Winning', 'Sci-...            26   \n",
              "1          'Action', 'Adult Cast', 'Sci-Fi', 'Space'             1   \n",
              "2  'Action', 'Adult Cast', 'Adventure', 'Sci-Fi',...            26   \n",
              "3  'Action', 'Detective', 'Drama', 'Mystery', 'Su...            26   \n",
              "4  'Adventure', 'Fantasy', 'Shounen', 'Supernatural'            52   \n",
              "\n",
              "                                           broadcast  \\\n",
              "0  {'day_of_the_week': 'saturday', 'start_time': ...   \n",
              "1                                                NaN   \n",
              "2  {'day_of_the_week': 'thursday', 'start_time': ...   \n",
              "3  {'day_of_the_week': 'wednesday', 'start_time':...   \n",
              "4  {'day_of_the_week': 'thursday', 'start_time': ...   \n",
              "\n",
              "   average_episode_duration rating                                 studios  \n",
              "0                      1440      r         [{'id': 14, 'name': 'Sunrise'}]  \n",
              "1                      6911      r            [{'id': 4, 'name': 'Bones'}]  \n",
              "2                      1480  pg_13        [{'id': 11, 'name': 'Madhouse'}]  \n",
              "3                      1500  pg_13         [{'id': 14, 'name': 'Sunrise'}]  \n",
              "4                      1380     pg  [{'id': 18, 'name': 'Toei Animation'}]  "
            ],
            "text/html": [
              "\n",
              "  <div id=\"df-817255e1-eab1-4483-b24b-b17eba67526e\">\n",
              "    <div class=\"colab-df-container\">\n",
              "      <div>\n",
              "<style scoped>\n",
              "    .dataframe tbody tr th:only-of-type {\n",
              "        vertical-align: middle;\n",
              "    }\n",
              "\n",
              "    .dataframe tbody tr th {\n",
              "        vertical-align: top;\n",
              "    }\n",
              "\n",
              "    .dataframe thead th {\n",
              "        text-align: right;\n",
              "    }\n",
              "</style>\n",
              "<table border=\"1\" class=\"dataframe\">\n",
              "  <thead>\n",
              "    <tr style=\"text-align: right;\">\n",
              "      <th></th>\n",
              "      <th>_id</th>\n",
              "      <th>id</th>\n",
              "      <th>title</th>\n",
              "      <th>main_picture</th>\n",
              "      <th>start_date</th>\n",
              "      <th>end_date</th>\n",
              "      <th>synopsis</th>\n",
              "      <th>mean</th>\n",
              "      <th>rank</th>\n",
              "      <th>popularity</th>\n",
              "      <th>num_list_users</th>\n",
              "      <th>num_scoring_users</th>\n",
              "      <th>status</th>\n",
              "      <th>genres</th>\n",
              "      <th>num_episodes</th>\n",
              "      <th>broadcast</th>\n",
              "      <th>average_episode_duration</th>\n",
              "      <th>rating</th>\n",
              "      <th>studios</th>\n",
              "    </tr>\n",
              "  </thead>\n",
              "  <tbody>\n",
              "    <tr>\n",
              "      <th>0</th>\n",
              "      <td>{'$oid': '6475e0941f0050062bd10388'}</td>\n",
              "      <td>1</td>\n",
              "      <td>Cowboy Bebop</td>\n",
              "      <td>{'medium': 'https://cdn.myanimelist.net/images...</td>\n",
              "      <td>1998-04-03</td>\n",
              "      <td>1999-04-24</td>\n",
              "      <td>Crime is timeless. By the year 2071, humanity ...</td>\n",
              "      <td>8.75</td>\n",
              "      <td>40.0</td>\n",
              "      <td>43</td>\n",
              "      <td>1765279</td>\n",
              "      <td>910917</td>\n",
              "      <td>finished_airing</td>\n",
              "      <td>'Action', 'Adult Cast', 'Award Winning', 'Sci-...</td>\n",
              "      <td>26</td>\n",
              "      <td>{'day_of_the_week': 'saturday', 'start_time': ...</td>\n",
              "      <td>1440</td>\n",
              "      <td>r</td>\n",
              "      <td>[{'id': 14, 'name': 'Sunrise'}]</td>\n",
              "    </tr>\n",
              "    <tr>\n",
              "      <th>1</th>\n",
              "      <td>{'$oid': '6475e0971f0050062bd1038a'}</td>\n",
              "      <td>5</td>\n",
              "      <td>Cowboy Bebop: Tengoku no Tobira</td>\n",
              "      <td>{'medium': 'https://cdn.myanimelist.net/images...</td>\n",
              "      <td>2001-09-01</td>\n",
              "      <td>2001-09-01</td>\n",
              "      <td>Another day, another bounty—such is the life o...</td>\n",
              "      <td>8.38</td>\n",
              "      <td>191.0</td>\n",
              "      <td>601</td>\n",
              "      <td>359873</td>\n",
              "      <td>205667</td>\n",
              "      <td>finished_airing</td>\n",
              "      <td>'Action', 'Adult Cast', 'Sci-Fi', 'Space'</td>\n",
              "      <td>1</td>\n",
              "      <td>NaN</td>\n",
              "      <td>6911</td>\n",
              "      <td>r</td>\n",
              "      <td>[{'id': 4, 'name': 'Bones'}]</td>\n",
              "    </tr>\n",
              "    <tr>\n",
              "      <th>2</th>\n",
              "      <td>{'$oid': '6475e09a1f0050062bd1038c'}</td>\n",
              "      <td>6</td>\n",
              "      <td>Trigun</td>\n",
              "      <td>{'medium': 'https://cdn.myanimelist.net/images...</td>\n",
              "      <td>1998-04-01</td>\n",
              "      <td>1998-09-30</td>\n",
              "      <td>Vash the Stampede is the man with a $$60,000,0...</td>\n",
              "      <td>8.22</td>\n",
              "      <td>325.0</td>\n",
              "      <td>246</td>\n",
              "      <td>724596</td>\n",
              "      <td>355436</td>\n",
              "      <td>finished_airing</td>\n",
              "      <td>'Action', 'Adult Cast', 'Adventure', 'Sci-Fi',...</td>\n",
              "      <td>26</td>\n",
              "      <td>{'day_of_the_week': 'thursday', 'start_time': ...</td>\n",
              "      <td>1480</td>\n",
              "      <td>pg_13</td>\n",
              "      <td>[{'id': 11, 'name': 'Madhouse'}]</td>\n",
              "    </tr>\n",
              "    <tr>\n",
              "      <th>3</th>\n",
              "      <td>{'$oid': '6475e09c1f0050062bd1038e'}</td>\n",
              "      <td>7</td>\n",
              "      <td>Witch Hunter Robin</td>\n",
              "      <td>{'medium': 'https://cdn.myanimelist.net/images...</td>\n",
              "      <td>2002-07-03</td>\n",
              "      <td>2002-12-25</td>\n",
              "      <td>Robin Sena is a powerful craft user drafted in...</td>\n",
              "      <td>7.25</td>\n",
              "      <td>2798.0</td>\n",
              "      <td>1792</td>\n",
              "      <td>111663</td>\n",
              "      <td>42756</td>\n",
              "      <td>finished_airing</td>\n",
              "      <td>'Action', 'Detective', 'Drama', 'Mystery', 'Su...</td>\n",
              "      <td>26</td>\n",
              "      <td>{'day_of_the_week': 'wednesday', 'start_time':...</td>\n",
              "      <td>1500</td>\n",
              "      <td>pg_13</td>\n",
              "      <td>[{'id': 14, 'name': 'Sunrise'}]</td>\n",
              "    </tr>\n",
              "    <tr>\n",
              "      <th>4</th>\n",
              "      <td>{'$oid': '6475e09f1f0050062bd10390'}</td>\n",
              "      <td>8</td>\n",
              "      <td>Bouken Ou Beet</td>\n",
              "      <td>{'medium': 'https://cdn.myanimelist.net/images...</td>\n",
              "      <td>2004-09-30</td>\n",
              "      <td>2005-09-29</td>\n",
              "      <td>It is the dark century and the people are suff...</td>\n",
              "      <td>6.94</td>\n",
              "      <td>4240.0</td>\n",
              "      <td>5114</td>\n",
              "      <td>14957</td>\n",
              "      <td>6392</td>\n",
              "      <td>finished_airing</td>\n",
              "      <td>'Adventure', 'Fantasy', 'Shounen', 'Supernatural'</td>\n",
              "      <td>52</td>\n",
              "      <td>{'day_of_the_week': 'thursday', 'start_time': ...</td>\n",
              "      <td>1380</td>\n",
              "      <td>pg</td>\n",
              "      <td>[{'id': 18, 'name': 'Toei Animation'}]</td>\n",
              "    </tr>\n",
              "  </tbody>\n",
              "</table>\n",
              "</div>\n",
              "      <button class=\"colab-df-convert\" onclick=\"convertToInteractive('df-817255e1-eab1-4483-b24b-b17eba67526e')\"\n",
              "              title=\"Convert this dataframe to an interactive table.\"\n",
              "              style=\"display:none;\">\n",
              "        \n",
              "  <svg xmlns=\"http://www.w3.org/2000/svg\" height=\"24px\"viewBox=\"0 0 24 24\"\n",
              "       width=\"24px\">\n",
              "    <path d=\"M0 0h24v24H0V0z\" fill=\"none\"/>\n",
              "    <path d=\"M18.56 5.44l.94 2.06.94-2.06 2.06-.94-2.06-.94-.94-2.06-.94 2.06-2.06.94zm-11 1L8.5 8.5l.94-2.06 2.06-.94-2.06-.94L8.5 2.5l-.94 2.06-2.06.94zm10 10l.94 2.06.94-2.06 2.06-.94-2.06-.94-.94-2.06-.94 2.06-2.06.94z\"/><path d=\"M17.41 7.96l-1.37-1.37c-.4-.4-.92-.59-1.43-.59-.52 0-1.04.2-1.43.59L10.3 9.45l-7.72 7.72c-.78.78-.78 2.05 0 2.83L4 21.41c.39.39.9.59 1.41.59.51 0 1.02-.2 1.41-.59l7.78-7.78 2.81-2.81c.8-.78.8-2.07 0-2.86zM5.41 20L4 18.59l7.72-7.72 1.47 1.35L5.41 20z\"/>\n",
              "  </svg>\n",
              "      </button>\n",
              "      \n",
              "  <style>\n",
              "    .colab-df-container {\n",
              "      display:flex;\n",
              "      flex-wrap:wrap;\n",
              "      gap: 12px;\n",
              "    }\n",
              "\n",
              "    .colab-df-convert {\n",
              "      background-color: #E8F0FE;\n",
              "      border: none;\n",
              "      border-radius: 50%;\n",
              "      cursor: pointer;\n",
              "      display: none;\n",
              "      fill: #1967D2;\n",
              "      height: 32px;\n",
              "      padding: 0 0 0 0;\n",
              "      width: 32px;\n",
              "    }\n",
              "\n",
              "    .colab-df-convert:hover {\n",
              "      background-color: #E2EBFA;\n",
              "      box-shadow: 0px 1px 2px rgba(60, 64, 67, 0.3), 0px 1px 3px 1px rgba(60, 64, 67, 0.15);\n",
              "      fill: #174EA6;\n",
              "    }\n",
              "\n",
              "    [theme=dark] .colab-df-convert {\n",
              "      background-color: #3B4455;\n",
              "      fill: #D2E3FC;\n",
              "    }\n",
              "\n",
              "    [theme=dark] .colab-df-convert:hover {\n",
              "      background-color: #434B5C;\n",
              "      box-shadow: 0px 1px 3px 1px rgba(0, 0, 0, 0.15);\n",
              "      filter: drop-shadow(0px 1px 2px rgba(0, 0, 0, 0.3));\n",
              "      fill: #FFFFFF;\n",
              "    }\n",
              "  </style>\n",
              "\n",
              "      <script>\n",
              "        const buttonEl =\n",
              "          document.querySelector('#df-817255e1-eab1-4483-b24b-b17eba67526e button.colab-df-convert');\n",
              "        buttonEl.style.display =\n",
              "          google.colab.kernel.accessAllowed ? 'block' : 'none';\n",
              "\n",
              "        async function convertToInteractive(key) {\n",
              "          const element = document.querySelector('#df-817255e1-eab1-4483-b24b-b17eba67526e');\n",
              "          const dataTable =\n",
              "            await google.colab.kernel.invokeFunction('convertToInteractive',\n",
              "                                                     [key], {});\n",
              "          if (!dataTable) return;\n",
              "\n",
              "          const docLinkHtml = 'Like what you see? Visit the ' +\n",
              "            '<a target=\"_blank\" href=https://colab.research.google.com/notebooks/data_table.ipynb>data table notebook</a>'\n",
              "            + ' to learn more about interactive tables.';\n",
              "          element.innerHTML = '';\n",
              "          dataTable['output_type'] = 'display_data';\n",
              "          await google.colab.output.renderOutput(dataTable, element);\n",
              "          const docLink = document.createElement('div');\n",
              "          docLink.innerHTML = docLinkHtml;\n",
              "          element.appendChild(docLink);\n",
              "        }\n",
              "      </script>\n",
              "    </div>\n",
              "  </div>\n",
              "  "
            ]
          },
          "metadata": {},
          "execution_count": 6
        }
      ]
    },
    {
      "cell_type": "code",
      "source": [
        "dfanime.dropna(subset = ['synopsis'], inplace=True)"
      ],
      "metadata": {
        "id": "-Y7K4Rs6yE-t"
      },
      "execution_count": 7,
      "outputs": []
    },
    {
      "cell_type": "code",
      "source": [
        "dfanime.info()"
      ],
      "metadata": {
        "colab": {
          "base_uri": "https://localhost:8080/"
        },
        "id": "ql4ORLrbyHG2",
        "outputId": "4c5ba1e7-9a59-407b-c63e-9e6bfc412348"
      },
      "execution_count": 8,
      "outputs": [
        {
          "output_type": "stream",
          "name": "stdout",
          "text": [
            "<class 'pandas.core.frame.DataFrame'>\n",
            "RangeIndex: 7268 entries, 0 to 7267\n",
            "Data columns (total 19 columns):\n",
            " #   Column                    Non-Null Count  Dtype  \n",
            "---  ------                    --------------  -----  \n",
            " 0   _id                       7268 non-null   object \n",
            " 1   id                        7268 non-null   int64  \n",
            " 2   title                     7268 non-null   object \n",
            " 3   main_picture              7261 non-null   object \n",
            " 4   start_date                7268 non-null   object \n",
            " 5   end_date                  7255 non-null   object \n",
            " 6   synopsis                  7268 non-null   object \n",
            " 7   mean                      6954 non-null   float64\n",
            " 8   rank                      6217 non-null   float64\n",
            " 9   popularity                7268 non-null   int64  \n",
            " 10  num_list_users            7268 non-null   int64  \n",
            " 11  num_scoring_users         7268 non-null   int64  \n",
            " 12  status                    7268 non-null   object \n",
            " 13  genres                    7268 non-null   object \n",
            " 14  num_episodes              7268 non-null   int64  \n",
            " 15  broadcast                 1215 non-null   object \n",
            " 16  average_episode_duration  7268 non-null   int64  \n",
            " 17  rating                    7173 non-null   object \n",
            " 18  studios                   7268 non-null   object \n",
            "dtypes: float64(2), int64(6), object(11)\n",
            "memory usage: 1.1+ MB\n"
          ]
        }
      ]
    },
    {
      "cell_type": "code",
      "source": [
        "dfsyn = dfanime[['synopsis', 'genres']]"
      ],
      "metadata": {
        "id": "8Cv1iuC80JAV"
      },
      "execution_count": 9,
      "outputs": []
    },
    {
      "cell_type": "code",
      "source": [
        "dfsyn"
      ],
      "metadata": {
        "colab": {
          "base_uri": "https://localhost:8080/",
          "height": 423
        },
        "id": "y6kunn_CyJm9",
        "outputId": "36640385-bb1f-479e-9321-d00381866656"
      },
      "execution_count": 10,
      "outputs": [
        {
          "output_type": "execute_result",
          "data": {
            "text/plain": [
              "                                               synopsis  \\\n",
              "0     Crime is timeless. By the year 2071, humanity ...   \n",
              "1     Another day, another bounty—such is the life o...   \n",
              "2     Vash the Stampede is the man with a $$60,000,0...   \n",
              "3     Robin Sena is a powerful craft user drafted in...   \n",
              "4     It is the dark century and the people are suff...   \n",
              "...                                                 ...   \n",
              "7263  A recap episode of the first season of Rinne n...   \n",
              "7264  An hour long OVA summarizing the plot of the o...   \n",
              "7265  The continuation of Yurumates 3D right after t...   \n",
              "7266  High schooler Nanami Momozono has quite a few ...   \n",
              "7267  The year is 1868; English nobleman George Joes...   \n",
              "\n",
              "                                                 genres  \n",
              "0     'Action', 'Adult Cast', 'Award Winning', 'Sci-...  \n",
              "1             'Action', 'Adult Cast', 'Sci-Fi', 'Space'  \n",
              "2     'Action', 'Adult Cast', 'Adventure', 'Sci-Fi',...  \n",
              "3     'Action', 'Detective', 'Drama', 'Mystery', 'Su...  \n",
              "4     'Adventure', 'Fantasy', 'Shounen', 'Supernatural'  \n",
              "...                                                 ...  \n",
              "7263              'Action', 'Comedy', 'Mecha', 'Sci-Fi'  \n",
              "7264                      'Comedy', 'Romance', 'Sci-Fi'  \n",
              "7265                'Comedy', 'Seinen', 'Slice of Life'  \n",
              "7266  'Comedy', 'Fantasy', 'Mythology', 'Romance', '...  \n",
              "7267  'Action', 'Adventure', 'Shounen', 'Supernatura...  \n",
              "\n",
              "[7268 rows x 2 columns]"
            ],
            "text/html": [
              "\n",
              "  <div id=\"df-234f6358-0f64-4cfb-a80b-77c3523f0d01\">\n",
              "    <div class=\"colab-df-container\">\n",
              "      <div>\n",
              "<style scoped>\n",
              "    .dataframe tbody tr th:only-of-type {\n",
              "        vertical-align: middle;\n",
              "    }\n",
              "\n",
              "    .dataframe tbody tr th {\n",
              "        vertical-align: top;\n",
              "    }\n",
              "\n",
              "    .dataframe thead th {\n",
              "        text-align: right;\n",
              "    }\n",
              "</style>\n",
              "<table border=\"1\" class=\"dataframe\">\n",
              "  <thead>\n",
              "    <tr style=\"text-align: right;\">\n",
              "      <th></th>\n",
              "      <th>synopsis</th>\n",
              "      <th>genres</th>\n",
              "    </tr>\n",
              "  </thead>\n",
              "  <tbody>\n",
              "    <tr>\n",
              "      <th>0</th>\n",
              "      <td>Crime is timeless. By the year 2071, humanity ...</td>\n",
              "      <td>'Action', 'Adult Cast', 'Award Winning', 'Sci-...</td>\n",
              "    </tr>\n",
              "    <tr>\n",
              "      <th>1</th>\n",
              "      <td>Another day, another bounty—such is the life o...</td>\n",
              "      <td>'Action', 'Adult Cast', 'Sci-Fi', 'Space'</td>\n",
              "    </tr>\n",
              "    <tr>\n",
              "      <th>2</th>\n",
              "      <td>Vash the Stampede is the man with a $$60,000,0...</td>\n",
              "      <td>'Action', 'Adult Cast', 'Adventure', 'Sci-Fi',...</td>\n",
              "    </tr>\n",
              "    <tr>\n",
              "      <th>3</th>\n",
              "      <td>Robin Sena is a powerful craft user drafted in...</td>\n",
              "      <td>'Action', 'Detective', 'Drama', 'Mystery', 'Su...</td>\n",
              "    </tr>\n",
              "    <tr>\n",
              "      <th>4</th>\n",
              "      <td>It is the dark century and the people are suff...</td>\n",
              "      <td>'Adventure', 'Fantasy', 'Shounen', 'Supernatural'</td>\n",
              "    </tr>\n",
              "    <tr>\n",
              "      <th>...</th>\n",
              "      <td>...</td>\n",
              "      <td>...</td>\n",
              "    </tr>\n",
              "    <tr>\n",
              "      <th>7263</th>\n",
              "      <td>A recap episode of the first season of Rinne n...</td>\n",
              "      <td>'Action', 'Comedy', 'Mecha', 'Sci-Fi'</td>\n",
              "    </tr>\n",
              "    <tr>\n",
              "      <th>7264</th>\n",
              "      <td>An hour long OVA summarizing the plot of the o...</td>\n",
              "      <td>'Comedy', 'Romance', 'Sci-Fi'</td>\n",
              "    </tr>\n",
              "    <tr>\n",
              "      <th>7265</th>\n",
              "      <td>The continuation of Yurumates 3D right after t...</td>\n",
              "      <td>'Comedy', 'Seinen', 'Slice of Life'</td>\n",
              "    </tr>\n",
              "    <tr>\n",
              "      <th>7266</th>\n",
              "      <td>High schooler Nanami Momozono has quite a few ...</td>\n",
              "      <td>'Comedy', 'Fantasy', 'Mythology', 'Romance', '...</td>\n",
              "    </tr>\n",
              "    <tr>\n",
              "      <th>7267</th>\n",
              "      <td>The year is 1868; English nobleman George Joes...</td>\n",
              "      <td>'Action', 'Adventure', 'Shounen', 'Supernatura...</td>\n",
              "    </tr>\n",
              "  </tbody>\n",
              "</table>\n",
              "<p>7268 rows × 2 columns</p>\n",
              "</div>\n",
              "      <button class=\"colab-df-convert\" onclick=\"convertToInteractive('df-234f6358-0f64-4cfb-a80b-77c3523f0d01')\"\n",
              "              title=\"Convert this dataframe to an interactive table.\"\n",
              "              style=\"display:none;\">\n",
              "        \n",
              "  <svg xmlns=\"http://www.w3.org/2000/svg\" height=\"24px\"viewBox=\"0 0 24 24\"\n",
              "       width=\"24px\">\n",
              "    <path d=\"M0 0h24v24H0V0z\" fill=\"none\"/>\n",
              "    <path d=\"M18.56 5.44l.94 2.06.94-2.06 2.06-.94-2.06-.94-.94-2.06-.94 2.06-2.06.94zm-11 1L8.5 8.5l.94-2.06 2.06-.94-2.06-.94L8.5 2.5l-.94 2.06-2.06.94zm10 10l.94 2.06.94-2.06 2.06-.94-2.06-.94-.94-2.06-.94 2.06-2.06.94z\"/><path d=\"M17.41 7.96l-1.37-1.37c-.4-.4-.92-.59-1.43-.59-.52 0-1.04.2-1.43.59L10.3 9.45l-7.72 7.72c-.78.78-.78 2.05 0 2.83L4 21.41c.39.39.9.59 1.41.59.51 0 1.02-.2 1.41-.59l7.78-7.78 2.81-2.81c.8-.78.8-2.07 0-2.86zM5.41 20L4 18.59l7.72-7.72 1.47 1.35L5.41 20z\"/>\n",
              "  </svg>\n",
              "      </button>\n",
              "      \n",
              "  <style>\n",
              "    .colab-df-container {\n",
              "      display:flex;\n",
              "      flex-wrap:wrap;\n",
              "      gap: 12px;\n",
              "    }\n",
              "\n",
              "    .colab-df-convert {\n",
              "      background-color: #E8F0FE;\n",
              "      border: none;\n",
              "      border-radius: 50%;\n",
              "      cursor: pointer;\n",
              "      display: none;\n",
              "      fill: #1967D2;\n",
              "      height: 32px;\n",
              "      padding: 0 0 0 0;\n",
              "      width: 32px;\n",
              "    }\n",
              "\n",
              "    .colab-df-convert:hover {\n",
              "      background-color: #E2EBFA;\n",
              "      box-shadow: 0px 1px 2px rgba(60, 64, 67, 0.3), 0px 1px 3px 1px rgba(60, 64, 67, 0.15);\n",
              "      fill: #174EA6;\n",
              "    }\n",
              "\n",
              "    [theme=dark] .colab-df-convert {\n",
              "      background-color: #3B4455;\n",
              "      fill: #D2E3FC;\n",
              "    }\n",
              "\n",
              "    [theme=dark] .colab-df-convert:hover {\n",
              "      background-color: #434B5C;\n",
              "      box-shadow: 0px 1px 3px 1px rgba(0, 0, 0, 0.15);\n",
              "      filter: drop-shadow(0px 1px 2px rgba(0, 0, 0, 0.3));\n",
              "      fill: #FFFFFF;\n",
              "    }\n",
              "  </style>\n",
              "\n",
              "      <script>\n",
              "        const buttonEl =\n",
              "          document.querySelector('#df-234f6358-0f64-4cfb-a80b-77c3523f0d01 button.colab-df-convert');\n",
              "        buttonEl.style.display =\n",
              "          google.colab.kernel.accessAllowed ? 'block' : 'none';\n",
              "\n",
              "        async function convertToInteractive(key) {\n",
              "          const element = document.querySelector('#df-234f6358-0f64-4cfb-a80b-77c3523f0d01');\n",
              "          const dataTable =\n",
              "            await google.colab.kernel.invokeFunction('convertToInteractive',\n",
              "                                                     [key], {});\n",
              "          if (!dataTable) return;\n",
              "\n",
              "          const docLinkHtml = 'Like what you see? Visit the ' +\n",
              "            '<a target=\"_blank\" href=https://colab.research.google.com/notebooks/data_table.ipynb>data table notebook</a>'\n",
              "            + ' to learn more about interactive tables.';\n",
              "          element.innerHTML = '';\n",
              "          dataTable['output_type'] = 'display_data';\n",
              "          await google.colab.output.renderOutput(dataTable, element);\n",
              "          const docLink = document.createElement('div');\n",
              "          docLink.innerHTML = docLinkHtml;\n",
              "          element.appendChild(docLink);\n",
              "        }\n",
              "      </script>\n",
              "    </div>\n",
              "  </div>\n",
              "  "
            ]
          },
          "metadata": {},
          "execution_count": 10
        }
      ]
    },
    {
      "cell_type": "markdown",
      "source": [
        "###Pretprocesiranje"
      ],
      "metadata": {
        "id": "MQTUE7amVRg-"
      }
    },
    {
      "cell_type": "code",
      "source": [
        "#imprinting pprint for pretty printing\n",
        "from pprint import pprint\n",
        "#importing defaultdict\n",
        "from collections import defaultdict\n",
        "#saving total genres here.\n",
        "hash_map = defaultdict(lambda: 0)\n",
        "#saving each row's genre in genrelist\n",
        "genrelist = []\n",
        "for text in dfanime['genres']:\n",
        "    templist = text[1:len(text)-1].split(\"', '\")\n",
        "    for i in range(len(templist)):\n",
        "        if templist[i] == '':\n",
        "            templist.pop(i)\n",
        "            break\n",
        "    genrelist.append(templist)\n",
        "    for j in templist:\n",
        "        hash_map[j] += 1\n",
        "        \n",
        "# Adding genrelist Column\n",
        "dfsyn['genrelist'] = genrelist\n",
        "\n",
        "pprint(len(hash_map))\n",
        "pprint(hash_map)"
      ],
      "metadata": {
        "colab": {
          "base_uri": "https://localhost:8080/"
        },
        "id": "Dg7mu5BVA0jC",
        "outputId": "c4b7a428-4bb3-47ce-d9bd-dccf752eaac0"
      },
      "execution_count": 11,
      "outputs": [
        {
          "output_type": "stream",
          "name": "stdout",
          "text": [
            "76\n",
            "defaultdict(<function <lambda> at 0x7f5151f5f760>,\n",
            "            {'Action': 2033,\n",
            "             'Adult Cast': 193,\n",
            "             'Adventure': 1753,\n",
            "             'Anthropomorphic': 74,\n",
            "             'Avant Garde': 78,\n",
            "             'Award Winning': 159,\n",
            "             'Boys Love': 77,\n",
            "             'CGDCT': 56,\n",
            "             'Childcare': 30,\n",
            "             'Combat Sports': 60,\n",
            "             'Comedy': 2720,\n",
            "             'Crossdressing': 22,\n",
            "             'Delinquents': 28,\n",
            "             'Detective': 158,\n",
            "             'Drama': 1379,\n",
            "             'Ecchi': 447,\n",
            "             'Educational': 23,\n",
            "             'Erotica': 29,\n",
            "             'Fantasy': 1467,\n",
            "             'Gag Humor': 102,\n",
            "             'Girls Love': 58,\n",
            "             'Gore': 69,\n",
            "             'Gourmet': 35,\n",
            "             'Harem': 216,\n",
            "             'Hentai': 880,\n",
            "             'High Stakes Game': 13,\n",
            "             'Historical': 499,\n",
            "             'Horror': 271,\n",
            "             'Idols (Female)': 29,\n",
            "             'Idols (Male)': 3,\n",
            "             'Isekai': 69,\n",
            "             'Iyashikei': 64,\n",
            "             'Josei': 47,\n",
            "             'Kids': 570,\n",
            "             'Love Polygon': 39,\n",
            "             'Magical Sex Shift': 18,\n",
            "             'Mahou Shoujo': 129,\n",
            "             'Martial Arts': 205,\n",
            "             'Mecha': 735,\n",
            "             'Medical': 17,\n",
            "             'Military': 344,\n",
            "             'Music': 287,\n",
            "             'Mystery': 385,\n",
            "             'Mythology': 231,\n",
            "             'Organized Crime': 26,\n",
            "             'Otaku Culture': 28,\n",
            "             'Parody': 242,\n",
            "             'Performing Arts': 24,\n",
            "             'Pets': 40,\n",
            "             'Psychological': 181,\n",
            "             'Racing': 67,\n",
            "             'Reincarnation': 5,\n",
            "             'Reverse Harem': 25,\n",
            "             'Romance': 1081,\n",
            "             'Romantic Subtext': 3,\n",
            "             'Samurai': 110,\n",
            "             'School': 699,\n",
            "             'Sci-Fi': 1658,\n",
            "             'Seinen': 454,\n",
            "             'Shoujo': 381,\n",
            "             'Shounen': 1002,\n",
            "             'Showbiz': 16,\n",
            "             'Slice of Life': 429,\n",
            "             'Space': 320,\n",
            "             'Sports': 289,\n",
            "             'Strategy Game': 81,\n",
            "             'Super Power': 313,\n",
            "             'Supernatural': 634,\n",
            "             'Survival': 12,\n",
            "             'Suspense': 81,\n",
            "             'Team Sports': 120,\n",
            "             'Time Travel': 55,\n",
            "             'Vampire': 77,\n",
            "             'Video Game': 28,\n",
            "             'Visual Arts': 35,\n",
            "             'Workplace': 36})\n"
          ]
        },
        {
          "output_type": "stream",
          "name": "stderr",
          "text": [
            "<ipython-input-11-33513f4d29a5>:20: SettingWithCopyWarning: \n",
            "A value is trying to be set on a copy of a slice from a DataFrame.\n",
            "Try using .loc[row_indexer,col_indexer] = value instead\n",
            "\n",
            "See the caveats in the documentation: https://pandas.pydata.org/pandas-docs/stable/user_guide/indexing.html#returning-a-view-versus-a-copy\n",
            "  dfsyn['genrelist'] = genrelist\n"
          ]
        }
      ]
    },
    {
      "cell_type": "code",
      "source": [
        "temp = list(hash_map.items())\n",
        "temp.sort(key=lambda x: x[1], reverse=True)\n",
        "plt.rcParams['figure.figsize'] = (12, 16)\n",
        "y,x = [temp[i][0] for i in range(len(temp))], [temp[i][1] for i in range(len(temp))]\n",
        "sns.barplot(x=x, y=y)"
      ],
      "metadata": {
        "colab": {
          "base_uri": "https://localhost:8080/",
          "height": 1000
        },
        "id": "Lwo4PMUTnlho",
        "outputId": "0a63568a-5468-411f-ef78-3ccae97d8584"
      },
      "execution_count": 12,
      "outputs": [
        {
          "output_type": "execute_result",
          "data": {
            "text/plain": [
              "<Axes: >"
            ]
          },
          "metadata": {},
          "execution_count": 12
        },
        {
          "output_type": "display_data",
          "data": {
            "text/plain": [
              "<Figure size 1200x1600 with 1 Axes>"
            ],
            "image/png": "[encoded data removed]"
          },
          "metadata": {}
        }
      ]
    },
    {
      "cell_type": "code",
      "source": [
        "dfsyn.drop(columns=['genres'], inplace=True)"
      ],
      "metadata": {
        "colab": {
          "base_uri": "https://localhost:8080/"
        },
        "id": "usWnoqrcooQU",
        "outputId": "87f6c118-60c1-42e0-ea7f-a5a1a00d483d"
      },
      "execution_count": 13,
      "outputs": [
        {
          "output_type": "stream",
          "name": "stderr",
          "text": [
            "<ipython-input-13-0eccfe6bc060>:1: SettingWithCopyWarning: \n",
            "A value is trying to be set on a copy of a slice from a DataFrame\n",
            "\n",
            "See the caveats in the documentation: https://pandas.pydata.org/pandas-docs/stable/user_guide/indexing.html#returning-a-view-versus-a-copy\n",
            "  dfsyn.drop(columns=['genres'], inplace=True)\n"
          ]
        }
      ]
    },
    {
      "cell_type": "code",
      "source": [
        "dfsyn"
      ],
      "metadata": {
        "colab": {
          "base_uri": "https://localhost:8080/",
          "height": 423
        },
        "id": "M-4ncArmoqcm",
        "outputId": "deb6135d-c1ce-4729-ef0b-3ec962482f78"
      },
      "execution_count": 14,
      "outputs": [
        {
          "output_type": "execute_result",
          "data": {
            "text/plain": [
              "                                               synopsis  \\\n",
              "0     Crime is timeless. By the year 2071, humanity ...   \n",
              "1     Another day, another bounty—such is the life o...   \n",
              "2     Vash the Stampede is the man with a $$60,000,0...   \n",
              "3     Robin Sena is a powerful craft user drafted in...   \n",
              "4     It is the dark century and the people are suff...   \n",
              "...                                                 ...   \n",
              "7263  A recap episode of the first season of Rinne n...   \n",
              "7264  An hour long OVA summarizing the plot of the o...   \n",
              "7265  The continuation of Yurumates 3D right after t...   \n",
              "7266  High schooler Nanami Momozono has quite a few ...   \n",
              "7267  The year is 1868; English nobleman George Joes...   \n",
              "\n",
              "                                              genrelist  \n",
              "0     [Action, Adult Cast, Award Winning, Sci-Fi, Sp...  \n",
              "1                   [Action, Adult Cast, Sci-Fi, Space]  \n",
              "2      [Action, Adult Cast, Adventure, Sci-Fi, Shounen]  \n",
              "3     [Action, Detective, Drama, Mystery, Supernatural]  \n",
              "4           [Adventure, Fantasy, Shounen, Supernatural]  \n",
              "...                                                 ...  \n",
              "7263                    [Action, Comedy, Mecha, Sci-Fi]  \n",
              "7264                          [Comedy, Romance, Sci-Fi]  \n",
              "7265                    [Comedy, Seinen, Slice of Life]  \n",
              "7266      [Comedy, Fantasy, Mythology, Romance, Shoujo]  \n",
              "7267  [Action, Adventure, Shounen, Supernatural, Vam...  \n",
              "\n",
              "[7268 rows x 2 columns]"
            ],
            "text/html": [
              "\n",
              "  <div id=\"df-ace89248-a253-4fbc-bf51-91a6cbe53ba7\">\n",
              "    <div class=\"colab-df-container\">\n",
              "      <div>\n",
              "<style scoped>\n",
              "    .dataframe tbody tr th:only-of-type {\n",
              "        vertical-align: middle;\n",
              "    }\n",
              "\n",
              "    .dataframe tbody tr th {\n",
              "        vertical-align: top;\n",
              "    }\n",
              "\n",
              "    .dataframe thead th {\n",
              "        text-align: right;\n",
              "    }\n",
              "</style>\n",
              "<table border=\"1\" class=\"dataframe\">\n",
              "  <thead>\n",
              "    <tr style=\"text-align: right;\">\n",
              "      <th></th>\n",
              "      <th>synopsis</th>\n",
              "      <th>genrelist</th>\n",
              "    </tr>\n",
              "  </thead>\n",
              "  <tbody>\n",
              "    <tr>\n",
              "      <th>0</th>\n",
              "      <td>Crime is timeless. By the year 2071, humanity ...</td>\n",
              "      <td>[Action, Adult Cast, Award Winning, Sci-Fi, Sp...</td>\n",
              "    </tr>\n",
              "    <tr>\n",
              "      <th>1</th>\n",
              "      <td>Another day, another bounty—such is the life o...</td>\n",
              "      <td>[Action, Adult Cast, Sci-Fi, Space]</td>\n",
              "    </tr>\n",
              "    <tr>\n",
              "      <th>2</th>\n",
              "      <td>Vash the Stampede is the man with a $$60,000,0...</td>\n",
              "      <td>[Action, Adult Cast, Adventure, Sci-Fi, Shounen]</td>\n",
              "    </tr>\n",
              "    <tr>\n",
              "      <th>3</th>\n",
              "      <td>Robin Sena is a powerful craft user drafted in...</td>\n",
              "      <td>[Action, Detective, Drama, Mystery, Supernatural]</td>\n",
              "    </tr>\n",
              "    <tr>\n",
              "      <th>4</th>\n",
              "      <td>It is the dark century and the people are suff...</td>\n",
              "      <td>[Adventure, Fantasy, Shounen, Supernatural]</td>\n",
              "    </tr>\n",
              "    <tr>\n",
              "      <th>...</th>\n",
              "      <td>...</td>\n",
              "      <td>...</td>\n",
              "    </tr>\n",
              "    <tr>\n",
              "      <th>7263</th>\n",
              "      <td>A recap episode of the first season of Rinne n...</td>\n",
              "      <td>[Action, Comedy, Mecha, Sci-Fi]</td>\n",
              "    </tr>\n",
              "    <tr>\n",
              "      <th>7264</th>\n",
              "      <td>An hour long OVA summarizing the plot of the o...</td>\n",
              "      <td>[Comedy, Romance, Sci-Fi]</td>\n",
              "    </tr>\n",
              "    <tr>\n",
              "      <th>7265</th>\n",
              "      <td>The continuation of Yurumates 3D right after t...</td>\n",
              "      <td>[Comedy, Seinen, Slice of Life]</td>\n",
              "    </tr>\n",
              "    <tr>\n",
              "      <th>7266</th>\n",
              "      <td>High schooler Nanami Momozono has quite a few ...</td>\n",
              "      <td>[Comedy, Fantasy, Mythology, Romance, Shoujo]</td>\n",
              "    </tr>\n",
              "    <tr>\n",
              "      <th>7267</th>\n",
              "      <td>The year is 1868; English nobleman George Joes...</td>\n",
              "      <td>[Action, Adventure, Shounen, Supernatural, Vam...</td>\n",
              "    </tr>\n",
              "  </tbody>\n",
              "</table>\n",
              "<p>7268 rows × 2 columns</p>\n",
              "</div>\n",
              "      <button class=\"colab-df-convert\" onclick=\"convertToInteractive('df-ace89248-a253-4fbc-bf51-91a6cbe53ba7')\"\n",
              "              title=\"Convert this dataframe to an interactive table.\"\n",
              "              style=\"display:none;\">\n",
              "        \n",
              "  <svg xmlns=\"http://www.w3.org/2000/svg\" height=\"24px\"viewBox=\"0 0 24 24\"\n",
              "       width=\"24px\">\n",
              "    <path d=\"M0 0h24v24H0V0z\" fill=\"none\"/>\n",
              "    <path d=\"M18.56 5.44l.94 2.06.94-2.06 2.06-.94-2.06-.94-.94-2.06-.94 2.06-2.06.94zm-11 1L8.5 8.5l.94-2.06 2.06-.94-2.06-.94L8.5 2.5l-.94 2.06-2.06.94zm10 10l.94 2.06.94-2.06 2.06-.94-2.06-.94-.94-2.06-.94 2.06-2.06.94z\"/><path d=\"M17.41 7.96l-1.37-1.37c-.4-.4-.92-.59-1.43-.59-.52 0-1.04.2-1.43.59L10.3 9.45l-7.72 7.72c-.78.78-.78 2.05 0 2.83L4 21.41c.39.39.9.59 1.41.59.51 0 1.02-.2 1.41-.59l7.78-7.78 2.81-2.81c.8-.78.8-2.07 0-2.86zM5.41 20L4 18.59l7.72-7.72 1.47 1.35L5.41 20z\"/>\n",
              "  </svg>\n",
              "      </button>\n",
              "      \n",
              "  <style>\n",
              "    .colab-df-container {\n",
              "      display:flex;\n",
              "      flex-wrap:wrap;\n",
              "      gap: 12px;\n",
              "    }\n",
              "\n",
              "    .colab-df-convert {\n",
              "      background-color: #E8F0FE;\n",
              "      border: none;\n",
              "      border-radius: 50%;\n",
              "      cursor: pointer;\n",
              "      display: none;\n",
              "      fill: #1967D2;\n",
              "      height: 32px;\n",
              "      padding: 0 0 0 0;\n",
              "      width: 32px;\n",
              "    }\n",
              "\n",
              "    .colab-df-convert:hover {\n",
              "      background-color: #E2EBFA;\n",
              "      box-shadow: 0px 1px 2px rgba(60, 64, 67, 0.3), 0px 1px 3px 1px rgba(60, 64, 67, 0.15);\n",
              "      fill: #174EA6;\n",
              "    }\n",
              "\n",
              "    [theme=dark] .colab-df-convert {\n",
              "      background-color: #3B4455;\n",
              "      fill: #D2E3FC;\n",
              "    }\n",
              "\n",
              "    [theme=dark] .colab-df-convert:hover {\n",
              "      background-color: #434B5C;\n",
              "      box-shadow: 0px 1px 3px 1px rgba(0, 0, 0, 0.15);\n",
              "      filter: drop-shadow(0px 1px 2px rgba(0, 0, 0, 0.3));\n",
              "      fill: #FFFFFF;\n",
              "    }\n",
              "  </style>\n",
              "\n",
              "      <script>\n",
              "        const buttonEl =\n",
              "          document.querySelector('#df-ace89248-a253-4fbc-bf51-91a6cbe53ba7 button.colab-df-convert');\n",
              "        buttonEl.style.display =\n",
              "          google.colab.kernel.accessAllowed ? 'block' : 'none';\n",
              "\n",
              "        async function convertToInteractive(key) {\n",
              "          const element = document.querySelector('#df-ace89248-a253-4fbc-bf51-91a6cbe53ba7');\n",
              "          const dataTable =\n",
              "            await google.colab.kernel.invokeFunction('convertToInteractive',\n",
              "                                                     [key], {});\n",
              "          if (!dataTable) return;\n",
              "\n",
              "          const docLinkHtml = 'Like what you see? Visit the ' +\n",
              "            '<a target=\"_blank\" href=https://colab.research.google.com/notebooks/data_table.ipynb>data table notebook</a>'\n",
              "            + ' to learn more about interactive tables.';\n",
              "          element.innerHTML = '';\n",
              "          dataTable['output_type'] = 'display_data';\n",
              "          await google.colab.output.renderOutput(dataTable, element);\n",
              "          const docLink = document.createElement('div');\n",
              "          docLink.innerHTML = docLinkHtml;\n",
              "          element.appendChild(docLink);\n",
              "        }\n",
              "      </script>\n",
              "    </div>\n",
              "  </div>\n",
              "  "
            ]
          },
          "metadata": {},
          "execution_count": 14
        }
      ]
    },
    {
      "cell_type": "code",
      "source": [
        "import re\n",
        "\n",
        "# Function for cleaning the text\n",
        "def clean_text(text):\n",
        "    text = re.sub('\\'', \"\", text)\n",
        "    text = re.sub('[^a-zA-Z]', \" \", text)\n",
        "    text = text.lower()\n",
        "    return text"
      ],
      "metadata": {
        "id": "0ocPz_HsoyH3"
      },
      "execution_count": 15,
      "outputs": []
    },
    {
      "cell_type": "code",
      "source": [
        "dfsyn.loc[:, 'cleaned_syn'] = dfsyn.loc[:,'synopsis'].apply(clean_text)\n",
        "dfsyn"
      ],
      "metadata": {
        "colab": {
          "base_uri": "https://localhost:8080/",
          "height": 527
        },
        "id": "gUFS8CZno1OM",
        "outputId": "e4beb0a7-fef6-4b3e-c4d1-79273a6f7dc5"
      },
      "execution_count": 16,
      "outputs": [
        {
          "output_type": "stream",
          "name": "stderr",
          "text": [
            "<ipython-input-16-a3da63c4b57f>:1: SettingWithCopyWarning: \n",
            "A value is trying to be set on a copy of a slice from a DataFrame.\n",
            "Try using .loc[row_indexer,col_indexer] = value instead\n",
            "\n",
            "See the caveats in the documentation: https://pandas.pydata.org/pandas-docs/stable/user_guide/indexing.html#returning-a-view-versus-a-copy\n",
            "  dfsyn.loc[:, 'cleaned_syn'] = dfsyn.loc[:,'synopsis'].apply(clean_text)\n"
          ]
        },
        {
          "output_type": "execute_result",
          "data": {
            "text/plain": [
              "                                               synopsis  \\\n",
              "0     Crime is timeless. By the year 2071, humanity ...   \n",
              "1     Another day, another bounty—such is the life o...   \n",
              "2     Vash the Stampede is the man with a $$60,000,0...   \n",
              "3     Robin Sena is a powerful craft user drafted in...   \n",
              "4     It is the dark century and the people are suff...   \n",
              "...                                                 ...   \n",
              "7263  A recap episode of the first season of Rinne n...   \n",
              "7264  An hour long OVA summarizing the plot of the o...   \n",
              "7265  The continuation of Yurumates 3D right after t...   \n",
              "7266  High schooler Nanami Momozono has quite a few ...   \n",
              "7267  The year is 1868; English nobleman George Joes...   \n",
              "\n",
              "                                              genrelist  \\\n",
              "0     [Action, Adult Cast, Award Winning, Sci-Fi, Sp...   \n",
              "1                   [Action, Adult Cast, Sci-Fi, Space]   \n",
              "2      [Action, Adult Cast, Adventure, Sci-Fi, Shounen]   \n",
              "3     [Action, Detective, Drama, Mystery, Supernatural]   \n",
              "4           [Adventure, Fantasy, Shounen, Supernatural]   \n",
              "...                                                 ...   \n",
              "7263                    [Action, Comedy, Mecha, Sci-Fi]   \n",
              "7264                          [Comedy, Romance, Sci-Fi]   \n",
              "7265                    [Comedy, Seinen, Slice of Life]   \n",
              "7266      [Comedy, Fantasy, Mythology, Romance, Shoujo]   \n",
              "7267  [Action, Adventure, Shounen, Supernatural, Vam...   \n",
              "\n",
              "                                            cleaned_syn  \n",
              "0     crime is timeless  by the year       humanity ...  \n",
              "1     another day  another bounty such is the life o...  \n",
              "2     vash the stampede is the man with a           ...  \n",
              "3     robin sena is a powerful craft user drafted in...  \n",
              "4     it is the dark century and the people are suff...  \n",
              "...                                                 ...  \n",
              "7263  a recap episode of the first season of rinne n...  \n",
              "7264  an hour long ova summarizing the plot of the o...  \n",
              "7265  the continuation of yurumates  d right after t...  \n",
              "7266  high schooler nanami momozono has quite a few ...  \n",
              "7267  the year is       english nobleman george joes...  \n",
              "\n",
              "[7268 rows x 3 columns]"
            ],
            "text/html": [
              "\n",
              "  <div id=\"df-8b94f7fd-c95f-45f3-8e98-340de019ff66\">\n",
              "    <div class=\"colab-df-container\">\n",
              "      <div>\n",
              "<style scoped>\n",
              "    .dataframe tbody tr th:only-of-type {\n",
              "        vertical-align: middle;\n",
              "    }\n",
              "\n",
              "    .dataframe tbody tr th {\n",
              "        vertical-align: top;\n",
              "    }\n",
              "\n",
              "    .dataframe thead th {\n",
              "        text-align: right;\n",
              "    }\n",
              "</style>\n",
              "<table border=\"1\" class=\"dataframe\">\n",
              "  <thead>\n",
              "    <tr style=\"text-align: right;\">\n",
              "      <th></th>\n",
              "      <th>synopsis</th>\n",
              "      <th>genrelist</th>\n",
              "      <th>cleaned_syn</th>\n",
              "    </tr>\n",
              "  </thead>\n",
              "  <tbody>\n",
              "    <tr>\n",
              "      <th>0</th>\n",
              "      <td>Crime is timeless. By the year 2071, humanity ...</td>\n",
              "      <td>[Action, Adult Cast, Award Winning, Sci-Fi, Sp...</td>\n",
              "      <td>crime is timeless  by the year       humanity ...</td>\n",
              "    </tr>\n",
              "    <tr>\n",
              "      <th>1</th>\n",
              "      <td>Another day, another bounty—such is the life o...</td>\n",
              "      <td>[Action, Adult Cast, Sci-Fi, Space]</td>\n",
              "      <td>another day  another bounty such is the life o...</td>\n",
              "    </tr>\n",
              "    <tr>\n",
              "      <th>2</th>\n",
              "      <td>Vash the Stampede is the man with a $$60,000,0...</td>\n",
              "      <td>[Action, Adult Cast, Adventure, Sci-Fi, Shounen]</td>\n",
              "      <td>vash the stampede is the man with a           ...</td>\n",
              "    </tr>\n",
              "    <tr>\n",
              "      <th>3</th>\n",
              "      <td>Robin Sena is a powerful craft user drafted in...</td>\n",
              "      <td>[Action, Detective, Drama, Mystery, Supernatural]</td>\n",
              "      <td>robin sena is a powerful craft user drafted in...</td>\n",
              "    </tr>\n",
              "    <tr>\n",
              "      <th>4</th>\n",
              "      <td>It is the dark century and the people are suff...</td>\n",
              "      <td>[Adventure, Fantasy, Shounen, Supernatural]</td>\n",
              "      <td>it is the dark century and the people are suff...</td>\n",
              "    </tr>\n",
              "    <tr>\n",
              "      <th>...</th>\n",
              "      <td>...</td>\n",
              "      <td>...</td>\n",
              "      <td>...</td>\n",
              "    </tr>\n",
              "    <tr>\n",
              "      <th>7263</th>\n",
              "      <td>A recap episode of the first season of Rinne n...</td>\n",
              "      <td>[Action, Comedy, Mecha, Sci-Fi]</td>\n",
              "      <td>a recap episode of the first season of rinne n...</td>\n",
              "    </tr>\n",
              "    <tr>\n",
              "      <th>7264</th>\n",
              "      <td>An hour long OVA summarizing the plot of the o...</td>\n",
              "      <td>[Comedy, Romance, Sci-Fi]</td>\n",
              "      <td>an hour long ova summarizing the plot of the o...</td>\n",
              "    </tr>\n",
              "    <tr>\n",
              "      <th>7265</th>\n",
              "      <td>The continuation of Yurumates 3D right after t...</td>\n",
              "      <td>[Comedy, Seinen, Slice of Life]</td>\n",
              "      <td>the continuation of yurumates  d right after t...</td>\n",
              "    </tr>\n",
              "    <tr>\n",
              "      <th>7266</th>\n",
              "      <td>High schooler Nanami Momozono has quite a few ...</td>\n",
              "      <td>[Comedy, Fantasy, Mythology, Romance, Shoujo]</td>\n",
              "      <td>high schooler nanami momozono has quite a few ...</td>\n",
              "    </tr>\n",
              "    <tr>\n",
              "      <th>7267</th>\n",
              "      <td>The year is 1868; English nobleman George Joes...</td>\n",
              "      <td>[Action, Adventure, Shounen, Supernatural, Vam...</td>\n",
              "      <td>the year is       english nobleman george joes...</td>\n",
              "    </tr>\n",
              "  </tbody>\n",
              "</table>\n",
              "<p>7268 rows × 3 columns</p>\n",
              "</div>\n",
              "      <button class=\"colab-df-convert\" onclick=\"convertToInteractive('df-8b94f7fd-c95f-45f3-8e98-340de019ff66')\"\n",
              "              title=\"Convert this dataframe to an interactive table.\"\n",
              "              style=\"display:none;\">\n",
              "        \n",
              "  <svg xmlns=\"http://www.w3.org/2000/svg\" height=\"24px\"viewBox=\"0 0 24 24\"\n",
              "       width=\"24px\">\n",
              "    <path d=\"M0 0h24v24H0V0z\" fill=\"none\"/>\n",
              "    <path d=\"M18.56 5.44l.94 2.06.94-2.06 2.06-.94-2.06-.94-.94-2.06-.94 2.06-2.06.94zm-11 1L8.5 8.5l.94-2.06 2.06-.94-2.06-.94L8.5 2.5l-.94 2.06-2.06.94zm10 10l.94 2.06.94-2.06 2.06-.94-2.06-.94-.94-2.06-.94 2.06-2.06.94z\"/><path d=\"M17.41 7.96l-1.37-1.37c-.4-.4-.92-.59-1.43-.59-.52 0-1.04.2-1.43.59L10.3 9.45l-7.72 7.72c-.78.78-.78 2.05 0 2.83L4 21.41c.39.39.9.59 1.41.59.51 0 1.02-.2 1.41-.59l7.78-7.78 2.81-2.81c.8-.78.8-2.07 0-2.86zM5.41 20L4 18.59l7.72-7.72 1.47 1.35L5.41 20z\"/>\n",
              "  </svg>\n",
              "      </button>\n",
              "      \n",
              "  <style>\n",
              "    .colab-df-container {\n",
              "      display:flex;\n",
              "      flex-wrap:wrap;\n",
              "      gap: 12px;\n",
              "    }\n",
              "\n",
              "    .colab-df-convert {\n",
              "      background-color: #E8F0FE;\n",
              "      border: none;\n",
              "      border-radius: 50%;\n",
              "      cursor: pointer;\n",
              "      display: none;\n",
              "      fill: #1967D2;\n",
              "      height: 32px;\n",
              "      padding: 0 0 0 0;\n",
              "      width: 32px;\n",
              "    }\n",
              "\n",
              "    .colab-df-convert:hover {\n",
              "      background-color: #E2EBFA;\n",
              "      box-shadow: 0px 1px 2px rgba(60, 64, 67, 0.3), 0px 1px 3px 1px rgba(60, 64, 67, 0.15);\n",
              "      fill: #174EA6;\n",
              "    }\n",
              "\n",
              "    [theme=dark] .colab-df-convert {\n",
              "      background-color: #3B4455;\n",
              "      fill: #D2E3FC;\n",
              "    }\n",
              "\n",
              "    [theme=dark] .colab-df-convert:hover {\n",
              "      background-color: #434B5C;\n",
              "      box-shadow: 0px 1px 3px 1px rgba(0, 0, 0, 0.15);\n",
              "      filter: drop-shadow(0px 1px 2px rgba(0, 0, 0, 0.3));\n",
              "      fill: #FFFFFF;\n",
              "    }\n",
              "  </style>\n",
              "\n",
              "      <script>\n",
              "        const buttonEl =\n",
              "          document.querySelector('#df-8b94f7fd-c95f-45f3-8e98-340de019ff66 button.colab-df-convert');\n",
              "        buttonEl.style.display =\n",
              "          google.colab.kernel.accessAllowed ? 'block' : 'none';\n",
              "\n",
              "        async function convertToInteractive(key) {\n",
              "          const element = document.querySelector('#df-8b94f7fd-c95f-45f3-8e98-340de019ff66');\n",
              "          const dataTable =\n",
              "            await google.colab.kernel.invokeFunction('convertToInteractive',\n",
              "                                                     [key], {});\n",
              "          if (!dataTable) return;\n",
              "\n",
              "          const docLinkHtml = 'Like what you see? Visit the ' +\n",
              "            '<a target=\"_blank\" href=https://colab.research.google.com/notebooks/data_table.ipynb>data table notebook</a>'\n",
              "            + ' to learn more about interactive tables.';\n",
              "          element.innerHTML = '';\n",
              "          dataTable['output_type'] = 'display_data';\n",
              "          await google.colab.output.renderOutput(dataTable, element);\n",
              "          const docLink = document.createElement('div');\n",
              "          docLink.innerHTML = docLinkHtml;\n",
              "          element.appendChild(docLink);\n",
              "        }\n",
              "      </script>\n",
              "    </div>\n",
              "  </div>\n",
              "  "
            ]
          },
          "metadata": {},
          "execution_count": 16
        }
      ]
    },
    {
      "cell_type": "code",
      "source": [
        "#importing nltk libraries\n",
        "import nltk\n",
        "from nltk.corpus import stopwords\n",
        "nltk.download('stopwords')"
      ],
      "metadata": {
        "colab": {
          "base_uri": "https://localhost:8080/"
        },
        "id": "jrxBEo0Mo95A",
        "outputId": "89076d4d-9815-4529-daab-b3103a8993db"
      },
      "execution_count": 17,
      "outputs": [
        {
          "output_type": "stream",
          "name": "stderr",
          "text": [
            "[nltk_data] Downloading package stopwords to /root/nltk_data...\n",
            "[nltk_data]   Unzipping corpora/stopwords.zip.\n"
          ]
        },
        {
          "output_type": "execute_result",
          "data": {
            "text/plain": [
              "True"
            ]
          },
          "metadata": {},
          "execution_count": 17
        }
      ]
    },
    {
      "cell_type": "code",
      "source": [
        "### Python Script to remove stopwords\n",
        "stop_words = set(stopwords.words('english'))\n",
        "stop_words.add('source')\n",
        "words = defaultdict(lambda: 0)\n",
        "def rem_stop(text):\n",
        "    for i in text.split():\n",
        "        new_text = []\n",
        "        if i not in stop_words:\n",
        "            new_text.append(i)\n",
        "            words[i] += 1\n",
        "    new_text = [i for i in text.split() if not i in stop_words]\n",
        "    return ' '.join(new_text)\n",
        "\n",
        "dfsyn.loc[:, 'cleaned_syn'] = dfsyn.loc[:, 'cleaned_syn'].apply(rem_stop)\n",
        "dfsyn"
      ],
      "metadata": {
        "colab": {
          "base_uri": "https://localhost:8080/",
          "height": 527
        },
        "id": "qZZevhM0pB4e",
        "outputId": "3aaf357a-c996-47fa-8928-6e9471237d2d"
      },
      "execution_count": 18,
      "outputs": [
        {
          "output_type": "stream",
          "name": "stderr",
          "text": [
            "<ipython-input-18-1c77438b1330>:14: SettingWithCopyWarning: \n",
            "A value is trying to be set on a copy of a slice from a DataFrame.\n",
            "Try using .loc[row_indexer,col_indexer] = value instead\n",
            "\n",
            "See the caveats in the documentation: https://pandas.pydata.org/pandas-docs/stable/user_guide/indexing.html#returning-a-view-versus-a-copy\n",
            "  dfsyn.loc[:, 'cleaned_syn'] = dfsyn.loc[:, 'cleaned_syn'].apply(rem_stop)\n"
          ]
        },
        {
          "output_type": "execute_result",
          "data": {
            "text/plain": [
              "                                               synopsis  \\\n",
              "0     Crime is timeless. By the year 2071, humanity ...   \n",
              "1     Another day, another bounty—such is the life o...   \n",
              "2     Vash the Stampede is the man with a $$60,000,0...   \n",
              "3     Robin Sena is a powerful craft user drafted in...   \n",
              "4     It is the dark century and the people are suff...   \n",
              "...                                                 ...   \n",
              "7263  A recap episode of the first season of Rinne n...   \n",
              "7264  An hour long OVA summarizing the plot of the o...   \n",
              "7265  The continuation of Yurumates 3D right after t...   \n",
              "7266  High schooler Nanami Momozono has quite a few ...   \n",
              "7267  The year is 1868; English nobleman George Joes...   \n",
              "\n",
              "                                              genrelist  \\\n",
              "0     [Action, Adult Cast, Award Winning, Sci-Fi, Sp...   \n",
              "1                   [Action, Adult Cast, Sci-Fi, Space]   \n",
              "2      [Action, Adult Cast, Adventure, Sci-Fi, Shounen]   \n",
              "3     [Action, Detective, Drama, Mystery, Supernatural]   \n",
              "4           [Adventure, Fantasy, Shounen, Supernatural]   \n",
              "...                                                 ...   \n",
              "7263                    [Action, Comedy, Mecha, Sci-Fi]   \n",
              "7264                          [Comedy, Romance, Sci-Fi]   \n",
              "7265                    [Comedy, Seinen, Slice of Life]   \n",
              "7266      [Comedy, Fantasy, Mythology, Romance, Shoujo]   \n",
              "7267  [Action, Adventure, Shounen, Supernatural, Vam...   \n",
              "\n",
              "                                            cleaned_syn  \n",
              "0     crime timeless year humanity expanded across g...  \n",
              "1     another day another bounty life often unlucky ...  \n",
              "2     vash stampede man bounty head reason hes merci...  \n",
              "3     robin sena powerful craft user drafted stnj gr...  \n",
              "4     dark century people suffering rule devil vande...  \n",
              "...                                                 ...  \n",
              "7263          recap episode first season rinne lagrange  \n",
              "7264  hour long ova summarizing plot original onegai...  \n",
              "7265          continuation yurumates right first season  \n",
              "7266  high schooler nanami momozono quite problems l...  \n",
              "7267  year english nobleman george joestar son jonat...  \n",
              "\n",
              "[7268 rows x 3 columns]"
            ],
            "text/html": [
              "\n",
              "  <div id=\"df-cc8fe639-b1fd-4323-ad53-b9be12919c3c\">\n",
              "    <div class=\"colab-df-container\">\n",
              "      <div>\n",
              "<style scoped>\n",
              "    .dataframe tbody tr th:only-of-type {\n",
              "        vertical-align: middle;\n",
              "    }\n",
              "\n",
              "    .dataframe tbody tr th {\n",
              "        vertical-align: top;\n",
              "    }\n",
              "\n",
              "    .dataframe thead th {\n",
              "        text-align: right;\n",
              "    }\n",
              "</style>\n",
              "<table border=\"1\" class=\"dataframe\">\n",
              "  <thead>\n",
              "    <tr style=\"text-align: right;\">\n",
              "      <th></th>\n",
              "      <th>synopsis</th>\n",
              "      <th>genrelist</th>\n",
              "      <th>cleaned_syn</th>\n",
              "    </tr>\n",
              "  </thead>\n",
              "  <tbody>\n",
              "    <tr>\n",
              "      <th>0</th>\n",
              "      <td>Crime is timeless. By the year 2071, humanity ...</td>\n",
              "      <td>[Action, Adult Cast, Award Winning, Sci-Fi, Sp...</td>\n",
              "      <td>crime timeless year humanity expanded across g...</td>\n",
              "    </tr>\n",
              "    <tr>\n",
              "      <th>1</th>\n",
              "      <td>Another day, another bounty—such is the life o...</td>\n",
              "      <td>[Action, Adult Cast, Sci-Fi, Space]</td>\n",
              "      <td>another day another bounty life often unlucky ...</td>\n",
              "    </tr>\n",
              "    <tr>\n",
              "      <th>2</th>\n",
              "      <td>Vash the Stampede is the man with a $$60,000,0...</td>\n",
              "      <td>[Action, Adult Cast, Adventure, Sci-Fi, Shounen]</td>\n",
              "      <td>vash stampede man bounty head reason hes merci...</td>\n",
              "    </tr>\n",
              "    <tr>\n",
              "      <th>3</th>\n",
              "      <td>Robin Sena is a powerful craft user drafted in...</td>\n",
              "      <td>[Action, Detective, Drama, Mystery, Supernatural]</td>\n",
              "      <td>robin sena powerful craft user drafted stnj gr...</td>\n",
              "    </tr>\n",
              "    <tr>\n",
              "      <th>4</th>\n",
              "      <td>It is the dark century and the people are suff...</td>\n",
              "      <td>[Adventure, Fantasy, Shounen, Supernatural]</td>\n",
              "      <td>dark century people suffering rule devil vande...</td>\n",
              "    </tr>\n",
              "    <tr>\n",
              "      <th>...</th>\n",
              "      <td>...</td>\n",
              "      <td>...</td>\n",
              "      <td>...</td>\n",
              "    </tr>\n",
              "    <tr>\n",
              "      <th>7263</th>\n",
              "      <td>A recap episode of the first season of Rinne n...</td>\n",
              "      <td>[Action, Comedy, Mecha, Sci-Fi]</td>\n",
              "      <td>recap episode first season rinne lagrange</td>\n",
              "    </tr>\n",
              "    <tr>\n",
              "      <th>7264</th>\n",
              "      <td>An hour long OVA summarizing the plot of the o...</td>\n",
              "      <td>[Comedy, Romance, Sci-Fi]</td>\n",
              "      <td>hour long ova summarizing plot original onegai...</td>\n",
              "    </tr>\n",
              "    <tr>\n",
              "      <th>7265</th>\n",
              "      <td>The continuation of Yurumates 3D right after t...</td>\n",
              "      <td>[Comedy, Seinen, Slice of Life]</td>\n",
              "      <td>continuation yurumates right first season</td>\n",
              "    </tr>\n",
              "    <tr>\n",
              "      <th>7266</th>\n",
              "      <td>High schooler Nanami Momozono has quite a few ...</td>\n",
              "      <td>[Comedy, Fantasy, Mythology, Romance, Shoujo]</td>\n",
              "      <td>high schooler nanami momozono quite problems l...</td>\n",
              "    </tr>\n",
              "    <tr>\n",
              "      <th>7267</th>\n",
              "      <td>The year is 1868; English nobleman George Joes...</td>\n",
              "      <td>[Action, Adventure, Shounen, Supernatural, Vam...</td>\n",
              "      <td>year english nobleman george joestar son jonat...</td>\n",
              "    </tr>\n",
              "  </tbody>\n",
              "</table>\n",
              "<p>7268 rows × 3 columns</p>\n",
              "</div>\n",
              "      <button class=\"colab-df-convert\" onclick=\"convertToInteractive('df-cc8fe639-b1fd-4323-ad53-b9be12919c3c')\"\n",
              "              title=\"Convert this dataframe to an interactive table.\"\n",
              "              style=\"display:none;\">\n",
              "        \n",
              "  <svg xmlns=\"http://www.w3.org/2000/svg\" height=\"24px\"viewBox=\"0 0 24 24\"\n",
              "       width=\"24px\">\n",
              "    <path d=\"M0 0h24v24H0V0z\" fill=\"none\"/>\n",
              "    <path d=\"M18.56 5.44l.94 2.06.94-2.06 2.06-.94-2.06-.94-.94-2.06-.94 2.06-2.06.94zm-11 1L8.5 8.5l.94-2.06 2.06-.94-2.06-.94L8.5 2.5l-.94 2.06-2.06.94zm10 10l.94 2.06.94-2.06 2.06-.94-2.06-.94-.94-2.06-.94 2.06-2.06.94z\"/><path d=\"M17.41 7.96l-1.37-1.37c-.4-.4-.92-.59-1.43-.59-.52 0-1.04.2-1.43.59L10.3 9.45l-7.72 7.72c-.78.78-.78 2.05 0 2.83L4 21.41c.39.39.9.59 1.41.59.51 0 1.02-.2 1.41-.59l7.78-7.78 2.81-2.81c.8-.78.8-2.07 0-2.86zM5.41 20L4 18.59l7.72-7.72 1.47 1.35L5.41 20z\"/>\n",
              "  </svg>\n",
              "      </button>\n",
              "      \n",
              "  <style>\n",
              "    .colab-df-container {\n",
              "      display:flex;\n",
              "      flex-wrap:wrap;\n",
              "      gap: 12px;\n",
              "    }\n",
              "\n",
              "    .colab-df-convert {\n",
              "      background-color: #E8F0FE;\n",
              "      border: none;\n",
              "      border-radius: 50%;\n",
              "      cursor: pointer;\n",
              "      display: none;\n",
              "      fill: #1967D2;\n",
              "      height: 32px;\n",
              "      padding: 0 0 0 0;\n",
              "      width: 32px;\n",
              "    }\n",
              "\n",
              "    .colab-df-convert:hover {\n",
              "      background-color: #E2EBFA;\n",
              "      box-shadow: 0px 1px 2px rgba(60, 64, 67, 0.3), 0px 1px 3px 1px rgba(60, 64, 67, 0.15);\n",
              "      fill: #174EA6;\n",
              "    }\n",
              "\n",
              "    [theme=dark] .colab-df-convert {\n",
              "      background-color: #3B4455;\n",
              "      fill: #D2E3FC;\n",
              "    }\n",
              "\n",
              "    [theme=dark] .colab-df-convert:hover {\n",
              "      background-color: #434B5C;\n",
              "      box-shadow: 0px 1px 3px 1px rgba(0, 0, 0, 0.15);\n",
              "      filter: drop-shadow(0px 1px 2px rgba(0, 0, 0, 0.3));\n",
              "      fill: #FFFFFF;\n",
              "    }\n",
              "  </style>\n",
              "\n",
              "      <script>\n",
              "        const buttonEl =\n",
              "          document.querySelector('#df-cc8fe639-b1fd-4323-ad53-b9be12919c3c button.colab-df-convert');\n",
              "        buttonEl.style.display =\n",
              "          google.colab.kernel.accessAllowed ? 'block' : 'none';\n",
              "\n",
              "        async function convertToInteractive(key) {\n",
              "          const element = document.querySelector('#df-cc8fe639-b1fd-4323-ad53-b9be12919c3c');\n",
              "          const dataTable =\n",
              "            await google.colab.kernel.invokeFunction('convertToInteractive',\n",
              "                                                     [key], {});\n",
              "          if (!dataTable) return;\n",
              "\n",
              "          const docLinkHtml = 'Like what you see? Visit the ' +\n",
              "            '<a target=\"_blank\" href=https://colab.research.google.com/notebooks/data_table.ipynb>data table notebook</a>'\n",
              "            + ' to learn more about interactive tables.';\n",
              "          element.innerHTML = '';\n",
              "          dataTable['output_type'] = 'display_data';\n",
              "          await google.colab.output.renderOutput(dataTable, element);\n",
              "          const docLink = document.createElement('div');\n",
              "          docLink.innerHTML = docLinkHtml;\n",
              "          element.appendChild(docLink);\n",
              "        }\n",
              "      </script>\n",
              "    </div>\n",
              "  </div>\n",
              "  "
            ]
          },
          "metadata": {},
          "execution_count": 18
        }
      ]
    },
    {
      "cell_type": "code",
      "source": [
        "tmp = sorted(words, key = lambda x: words[x], reverse = True)"
      ],
      "metadata": {
        "id": "IVLlPGdOpDLp"
      },
      "execution_count": 19,
      "outputs": []
    },
    {
      "cell_type": "code",
      "source": [
        "#total words\n",
        "values = []\n",
        "for i in tmp:\n",
        "    values.append(words[i])\n",
        "print(sum(values))"
      ],
      "metadata": {
        "colab": {
          "base_uri": "https://localhost:8080/"
        },
        "id": "ziU1gakqpHba",
        "outputId": "dbc77aaf-2bcb-4d53-a02f-89095fd339fe"
      },
      "execution_count": 20,
      "outputs": [
        {
          "output_type": "stream",
          "name": "stdout",
          "text": [
            "347768\n"
          ]
        }
      ]
    },
    {
      "cell_type": "code",
      "source": [
        "sns.barplot(x=values[:20], y=tmp[:20])"
      ],
      "metadata": {
        "colab": {
          "base_uri": "https://localhost:8080/",
          "height": 1000
        },
        "id": "DLpYNueDpIqY",
        "outputId": "5eb8e4c6-b792-4248-ecd6-0612366267d3"
      },
      "execution_count": 21,
      "outputs": [
        {
          "output_type": "execute_result",
          "data": {
            "text/plain": [
              "<Axes: >"
            ]
          },
          "metadata": {},
          "execution_count": 21
        },
        {
          "output_type": "display_data",
          "data": {
            "text/plain": [
              "<Figure size 1200x1600 with 1 Axes>"
            ],
            "image/png": "[encoded data removed]"
          },
          "metadata": {}
        }
      ]
    },
    {
      "cell_type": "code",
      "source": [
        "from sklearn.preprocessing import MultiLabelBinarizer\n",
        "\n",
        "multilabel_binarizer = MultiLabelBinarizer()\n",
        "multilabel_binarizer.fit(dfsyn['genrelist'])\n",
        "y = multilabel_binarizer.transform(dfsyn['genrelist'])\n",
        "print(y)"
      ],
      "metadata": {
        "colab": {
          "base_uri": "https://localhost:8080/"
        },
        "id": "LR76-mo3pRt8",
        "outputId": "35d48224-c482-4d66-c54d-3c109530e9cf"
      },
      "execution_count": 22,
      "outputs": [
        {
          "output_type": "stream",
          "name": "stdout",
          "text": [
            "[[1 1 0 ... 0 0 0]\n",
            " [1 1 0 ... 0 0 0]\n",
            " [1 1 1 ... 0 0 0]\n",
            " ...\n",
            " [0 0 0 ... 0 0 0]\n",
            " [0 0 0 ... 0 0 0]\n",
            " [1 0 1 ... 0 0 0]]\n"
          ]
        }
      ]
    },
    {
      "cell_type": "code",
      "source": [
        "from sklearn.model_selection import train_test_split\n",
        "xtrain, xtest, ytrain, ytest = train_test_split(dfsyn['cleaned_syn'], y, test_size=0.2,random_state=69)"
      ],
      "metadata": {
        "id": "GYGe9Dg6pXqW"
      },
      "execution_count": 23,
      "outputs": []
    },
    {
      "cell_type": "code",
      "source": [
        "from sklearn.feature_extraction.text import TfidfVectorizer\n",
        "\n",
        "tfidf_vectorizer = TfidfVectorizer(max_df=0.8, max_features=10000)\n",
        "xtrain_tfidf = tfidf_vectorizer.fit_transform(xtrain)\n",
        "xtest_tfidf = tfidf_vectorizer.transform(xtest)"
      ],
      "metadata": {
        "id": "9ZXtfQizpZ78"
      },
      "execution_count": 24,
      "outputs": []
    },
    {
      "cell_type": "code",
      "source": [
        "from sklearn.linear_model import LogisticRegression\n",
        "from sklearn.multiclass import OneVsRestClassifier\n",
        "from sklearn.metrics import f1_score\n",
        "from sklearn import svm\n",
        "\n",
        "\n",
        "model = LogisticRegression()\n",
        "classif = OneVsRestClassifier(model)"
      ],
      "metadata": {
        "id": "KYbehGuEpdg-"
      },
      "execution_count": 25,
      "outputs": []
    },
    {
      "cell_type": "code",
      "source": [
        "classif.fit(xtrain_tfidf, ytrain)"
      ],
      "metadata": {
        "colab": {
          "base_uri": "https://localhost:8080/",
          "height": 116
        },
        "id": "Vt5calTSpfkN",
        "outputId": "697a4e73-eb2d-495a-f9c7-a3fab91468f1"
      },
      "execution_count": 26,
      "outputs": [
        {
          "output_type": "execute_result",
          "data": {
            "text/plain": [
              "OneVsRestClassifier(estimator=LogisticRegression())"
            ],
            "text/html": [
              "<style>#sk-container-id-1 {color: black;background-color: white;}#sk-container-id-1 pre{padding: 0;}#sk-container-id-1 div.sk-toggleable {background-color: white;}#sk-container-id-1 label.sk-toggleable__label {cursor: pointer;display: block;width: 100%;margin-bottom: 0;padding: 0.3em;box-sizing: border-box;text-align: center;}#sk-container-id-1 label.sk-toggleable__label-arrow:before {content: \"▸\";float: left;margin-right: 0.25em;color: #696969;}#sk-container-id-1 label.sk-toggleable__label-arrow:hover:before {color: black;}#sk-container-id-1 div.sk-estimator:hover label.sk-toggleable__label-arrow:before {color: black;}#sk-container-id-1 div.sk-toggleable__content {max-height: 0;max-width: 0;overflow: hidden;text-align: left;background-color: #f0f8ff;}#sk-container-id-1 div.sk-toggleable__content pre {margin: 0.2em;color: black;border-radius: 0.25em;background-color: #f0f8ff;}#sk-container-id-1 input.sk-toggleable__control:checked~div.sk-toggleable__content {max-height: 200px;max-width: 100%;overflow: auto;}#sk-container-id-1 input.sk-toggleable__control:checked~label.sk-toggleable__label-arrow:before {content: \"▾\";}#sk-container-id-1 div.sk-estimator input.sk-toggleable__control:checked~label.sk-toggleable__label {background-color: #d4ebff;}#sk-container-id-1 div.sk-label input.sk-toggleable__control:checked~label.sk-toggleable__label {background-color: #d4ebff;}#sk-container-id-1 input.sk-hidden--visually {border: 0;clip: rect(1px 1px 1px 1px);clip: rect(1px, 1px, 1px, 1px);height: 1px;margin: -1px;overflow: hidden;padding: 0;position: absolute;width: 1px;}#sk-container-id-1 div.sk-estimator {font-family: monospace;background-color: #f0f8ff;border: 1px dotted black;border-radius: 0.25em;box-sizing: border-box;margin-bottom: 0.5em;}#sk-container-id-1 div.sk-estimator:hover {background-color: #d4ebff;}#sk-container-id-1 div.sk-parallel-item::after {content: \"\";width: 100%;border-bottom: 1px solid gray;flex-grow: 1;}#sk-container-id-1 div.sk-label:hover label.sk-toggleable__label {background-color: #d4ebff;}#sk-container-id-1 div.sk-serial::before {content: \"\";position: absolute;border-left: 1px solid gray;box-sizing: border-box;top: 0;bottom: 0;left: 50%;z-index: 0;}#sk-container-id-1 div.sk-serial {display: flex;flex-direction: column;align-items: center;background-color: white;padding-right: 0.2em;padding-left: 0.2em;position: relative;}#sk-container-id-1 div.sk-item {position: relative;z-index: 1;}#sk-container-id-1 div.sk-parallel {display: flex;align-items: stretch;justify-content: center;background-color: white;position: relative;}#sk-container-id-1 div.sk-item::before, #sk-container-id-1 div.sk-parallel-item::before {content: \"\";position: absolute;border-left: 1px solid gray;box-sizing: border-box;top: 0;bottom: 0;left: 50%;z-index: -1;}#sk-container-id-1 div.sk-parallel-item {display: flex;flex-direction: column;z-index: 1;position: relative;background-color: white;}#sk-container-id-1 div.sk-parallel-item:first-child::after {align-self: flex-end;width: 50%;}#sk-container-id-1 div.sk-parallel-item:last-child::after {align-self: flex-start;width: 50%;}#sk-container-id-1 div.sk-parallel-item:only-child::after {width: 0;}#sk-container-id-1 div.sk-dashed-wrapped {border: 1px dashed gray;margin: 0 0.4em 0.5em 0.4em;box-sizing: border-box;padding-bottom: 0.4em;background-color: white;}#sk-container-id-1 div.sk-label label {font-family: monospace;font-weight: bold;display: inline-block;line-height: 1.2em;}#sk-container-id-1 div.sk-label-container {text-align: center;}#sk-container-id-1 div.sk-container {/* jupyter's `normalize.less` sets `[hidden] { display: none; }` but bootstrap.min.css set `[hidden] { display: none !important; }` so we also need the `!important` here to be able to override the default hidden behavior on the sphinx rendered scikit-learn.org. See: https://github.com/scikit-learn/scikit-learn/issues/21755 */display: inline-block !important;position: relative;}#sk-container-id-1 div.sk-text-repr-fallback {display: none;}</style><div id=\"sk-container-id-1\" class=\"sk-top-container\"><div class=\"sk-text-repr-fallback\"><pre>OneVsRestClassifier(estimator=LogisticRegression())</pre><b>In a Jupyter environment, please rerun this cell to show the HTML representation or trust the notebook. <br />On GitHub, the HTML representation is unable to render, please try loading this page with nbviewer.org.</b></div><div class=\"sk-container\" hidden><div class=\"sk-item sk-dashed-wrapped\"><div class=\"sk-label-container\"><div class=\"sk-label sk-toggleable\"><input class=\"sk-toggleable__control sk-hidden--visually\" id=\"sk-estimator-id-1\" type=\"checkbox\" ><label for=\"sk-estimator-id-1\" class=\"sk-toggleable__label sk-toggleable__label-arrow\">OneVsRestClassifier</label><div class=\"sk-toggleable__content\"><pre>OneVsRestClassifier(estimator=LogisticRegression())</pre></div></div></div><div class=\"sk-parallel\"><div class=\"sk-parallel-item\"><div class=\"sk-item\"><div class=\"sk-label-container\"><div class=\"sk-label sk-toggleable\"><input class=\"sk-toggleable__control sk-hidden--visually\" id=\"sk-estimator-id-2\" type=\"checkbox\" ><label for=\"sk-estimator-id-2\" class=\"sk-toggleable__label sk-toggleable__label-arrow\">estimator: LogisticRegression</label><div class=\"sk-toggleable__content\"><pre>LogisticRegression()</pre></div></div></div><div class=\"sk-serial\"><div class=\"sk-item\"><div class=\"sk-estimator sk-toggleable\"><input class=\"sk-toggleable__control sk-hidden--visually\" id=\"sk-estimator-id-3\" type=\"checkbox\" ><label for=\"sk-estimator-id-3\" class=\"sk-toggleable__label sk-toggleable__label-arrow\">LogisticRegression</label><div class=\"sk-toggleable__content\"><pre>LogisticRegression()</pre></div></div></div></div></div></div></div></div></div></div>"
            ]
          },
          "metadata": {},
          "execution_count": 26
        }
      ]
    },
    {
      "cell_type": "code",
      "source": [
        "y_pred = classif.predict(xtest_tfidf)"
      ],
      "metadata": {
        "id": "gj_bt_8opfqi"
      },
      "execution_count": 27,
      "outputs": []
    },
    {
      "cell_type": "code",
      "source": [
        "f1_score(ytest, y_pred, average='micro')"
      ],
      "metadata": {
        "colab": {
          "base_uri": "https://localhost:8080/"
        },
        "id": "RD5k7MMmpfxr",
        "outputId": "315de75d-1cc9-4d6a-d166-d578a7a3868e"
      },
      "execution_count": 28,
      "outputs": [
        {
          "output_type": "execute_result",
          "data": {
            "text/plain": [
              "0.2505854800936768"
            ]
          },
          "metadata": {},
          "execution_count": 28
        }
      ]
    },
    {
      "cell_type": "markdown",
      "source": [
        "###Poboljšavanje modela"
      ],
      "metadata": {
        "id": "Zxx-oPXVpq8o"
      }
    },
    {
      "cell_type": "code",
      "source": [
        "y_pred_prob = classif.predict_proba(xtest_tfidf)"
      ],
      "metadata": {
        "id": "Or4aDtoBptIH"
      },
      "execution_count": 29,
      "outputs": []
    },
    {
      "cell_type": "code",
      "source": [
        "y_pred_new = (y_pred_prob >= 0.20).astype(int)"
      ],
      "metadata": {
        "id": "ZBk6TGgSpvkf"
      },
      "execution_count": 30,
      "outputs": []
    },
    {
      "cell_type": "code",
      "source": [
        "f1_score(ytest, y_pred_new, average='micro')"
      ],
      "metadata": {
        "colab": {
          "base_uri": "https://localhost:8080/"
        },
        "id": "afjCXox6pvqh",
        "outputId": "41418fed-a288-442f-aa8b-51511bbc49b3"
      },
      "execution_count": 31,
      "outputs": [
        {
          "output_type": "execute_result",
          "data": {
            "text/plain": [
              "0.497786151672162"
            ]
          },
          "metadata": {},
          "execution_count": 31
        }
      ]
    },
    {
      "cell_type": "markdown",
      "source": [
        "###Tekst sa sinopsisom"
      ],
      "metadata": {
        "id": "jAvZS89sp0Re"
      }
    },
    {
      "cell_type": "code",
      "source": [
        "with open('/content/drive/MyDrive/animesyn.txt', 'r+') as f:\n",
        "    text = f.read()\n",
        "text = clean_text(text)\n",
        "text = rem_stop(text)\n",
        "textx = tfidf_vectorizer.transform([text])\n",
        "y = classif.predict(textx)\n",
        "multilabel_binarizer.inverse_transform(y)"
      ],
      "metadata": {
        "colab": {
          "base_uri": "https://localhost:8080/"
        },
        "id": "3p6IDrLMHCOS",
        "outputId": "e7e4d498-433e-45c4-e704-3630eb93b075"
      },
      "execution_count": 32,
      "outputs": [
        {
          "output_type": "execute_result",
          "data": {
            "text/plain": [
              "[('Action',)]"
            ]
          },
          "metadata": {},
          "execution_count": 32
        }
      ]
    }
  ]
}